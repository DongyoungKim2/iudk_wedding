{
 "cells": [
  {
   "cell_type": "code",
   "execution_count": 1,
   "metadata": {},
   "outputs": [],
   "source": [
    "import sqlite3"
   ]
  },
  {
   "cell_type": "code",
   "execution_count": 3,
   "metadata": {},
   "outputs": [],
   "source": [
    "import datetime"
   ]
  },
  {
   "cell_type": "code",
   "execution_count": 6,
   "metadata": {},
   "outputs": [
    {
     "data": {
      "text/plain": [
       "'2021-06-07 13:18:37.291021'"
      ]
     },
     "execution_count": 6,
     "metadata": {},
     "output_type": "execute_result"
    }
   ],
   "source": []
  },
  {
   "cell_type": "code",
   "execution_count": 28,
   "metadata": {},
   "outputs": [
    {
     "data": {
      "text/plain": [
       "<sqlite3.Cursor at 0x7fc536241e30>"
      ]
     },
     "execution_count": 28,
     "metadata": {},
     "output_type": "execute_result"
    }
   ],
   "source": [
    "conn = sqlite3.connect(\"attend.db\")\n",
    "cur = conn.cursor()\n",
    "conn.execute('CREATE TABLE IF NOT EXISTS attend(ip TEXT, date TEXT, acc_no INTEGER)')"
   ]
  },
  {
   "cell_type": "code",
   "execution_count": 16,
   "metadata": {},
   "outputs": [
    {
     "name": "stdout",
     "output_type": "stream",
     "text": [
      "INSERT INTO attend VALUES (`0.0.0.0`, `2021-06-07 13:40:16.585458`, `0`)\n"
     ]
    }
   ],
   "source": []
  },
  {
   "cell_type": "code",
   "execution_count": 43,
   "metadata": {},
   "outputs": [],
   "source": [
    "\n",
    "curcurrent_no = -1\n",
    "\n",
    "next_no = current_no+1\n",
    "#next_ip = client_ip()\n",
    "next_ip = '0.0.0.0'\n",
    "next_date = str(datetime.datetime.today())\n",
    "cur.executemany( 'INSERT INTO attend VALUES (?,?,?)', [\n",
    "    (next_ip, next_date, next_no)\n",
    "] )\n",
    "conn.commit()\n",
    "\n",
    "\n",
    "#curcurrent_no = -1\n",
    "curcurrent_no = curcurrent_no + 1\n",
    "next_no = current_no+2\n",
    "#next_ip = client_ip()\n",
    "next_ip = '0.0.0.0'\n",
    "next_date = str(datetime.datetime.today())\n",
    "cur.executemany( 'INSERT INTO attend VALUES (?,?,?)', [\n",
    "    (next_ip, next_date, next_no)\n",
    "] )\n",
    "conn.commit()\n",
    "\n"
   ]
  },
  {
   "cell_type": "code",
   "execution_count": null,
   "metadata": {},
   "outputs": [],
   "source": [
    "conn.close()"
   ]
  },
  {
   "cell_type": "code",
   "execution_count": 53,
   "metadata": {},
   "outputs": [
    {
     "name": "stdout",
     "output_type": "stream",
     "text": [
      "('0.0.0.0', '2021-06-07 13:40:16.585458', 0)\n",
      "('0.0.0.0', '2021-06-07 13:44:55.831792', 0)\n",
      "('0.0.0.0', '2021-06-07 13:44:55.833871', 0)\n",
      "('0.0.0.0', '2021-06-07 14:24:26.848702', 0)\n",
      "('0.0.0.0', '2021-06-07 14:24:26.850408', 0)\n",
      "('0.0.0.0', '2021-06-07 14:24:34.678760', 0)\n",
      "('0.0.0.0', '2021-06-07 14:24:34.680357', 1)\n",
      "('127.0.0.1', '2021-06-07 14:28:39.911609', 2)\n",
      "('127.0.0.1', '2021-06-07 14:29:17.123244', 3)\n"
     ]
    }
   ],
   "source": [
    "conn = sqlite3.connect(\"attend.db\")\n",
    "cur = conn.cursor()\n",
    "cur.execute(\"SELECT * FROM attend\")\n",
    "rows = cur.fetchall()\n",
    "for row in rows: \n",
    "    print(row)\n",
    "#conn.close()\n"
   ]
  },
  {
   "cell_type": "code",
   "execution_count": null,
   "metadata": {},
   "outputs": [],
   "source": []
  },
  {
   "cell_type": "code",
   "execution_count": null,
   "metadata": {},
   "outputs": [],
   "source": [
    "cur.execute(\"DELETE FROM attend WHERE no = 15\", (2,))"
   ]
  },
  {
   "cell_type": "code",
   "execution_count": 57,
   "metadata": {},
   "outputs": [
    {
     "data": {
      "text/plain": [
       "0"
      ]
     },
     "execution_count": 57,
     "metadata": {},
     "output_type": "execute_result"
    }
   ],
   "source": [
    "len(cur.execute(\"SELECT no FROM attend\").fetchall())"
   ]
  },
  {
   "cell_type": "code",
   "execution_count": 35,
   "metadata": {},
   "outputs": [],
   "source": [
    "import numpy as np"
   ]
  },
  {
   "cell_type": "code",
   "execution_count": 45,
   "metadata": {},
   "outputs": [],
   "source": [
    "attlsit = cur.execute(\"SELECT acc_no FROM attend\").fetchall()"
   ]
  },
  {
   "cell_type": "code",
   "execution_count": 47,
   "metadata": {},
   "outputs": [
    {
     "data": {
      "text/plain": [
       "1"
      ]
     },
     "execution_count": 47,
     "metadata": {},
     "output_type": "execute_result"
    }
   ],
   "source": [
    "max(attlsit)[0]"
   ]
  },
  {
   "cell_type": "code",
   "execution_count": 54,
   "metadata": {},
   "outputs": [
    {
     "data": {
      "text/plain": [
       "<sqlite3.Cursor at 0x7fc53797e5e0>"
      ]
     },
     "execution_count": 54,
     "metadata": {},
     "output_type": "execute_result"
    }
   ],
   "source": [
    "conn = sqlite3.connect(\"book.db\")\n",
    "cur = conn.cursor()\n",
    "conn.execute('CREATE TABLE IF NOT EXISTS attend(no INTEGER, ip TEXT, date TEXT, name TEXT, comment TEXT)')"
   ]
  },
  {
   "cell_type": "code",
   "execution_count": 75,
   "metadata": {},
   "outputs": [
    {
     "name": "stdout",
     "output_type": "stream",
     "text": [
      "(1, '127.0.0.1', '2021-06-07 15:06:12.288144', 'asd', 'asdf', 'asdf')\n",
      "(2, '127.0.0.1', '2021-06-07 15:16:02.140654', 'ㄷㄹ', 'ㅁㄴㅇㄹ', 'ㅁㄴㅇㄹ')\n",
      "(3, '127.0.0.1', '2021-06-07 15:17:59.308599', 'qwef', 'fef', 'qwe')\n",
      "(4, '127.0.0.1', '2021-06-07 15:18:07.855610', 'qwef', 'fef', 'qweadsf')\n",
      "(5, '127.0.0.1', '2021-06-07 15:24:50.425669', 'a', 'df', 'ef')\n",
      "(6, '127.0.0.1', '2021-06-07 15:45:55.409254', 'asdf', 'asdf', 'asdf')\n",
      "(7, '127.0.0.1', '2021-06-07 15:46:05.038176', 'asdf', 'asdf', 'asdff')\n",
      "(8, '127.0.0.1', '2021-06-07 15:46:07.982294', 'qwefasdf', 'asdf', 'asdff')\n"
     ]
    }
   ],
   "source": [
    "conn = sqlite3.connect(\"book.db\")\n",
    "cur = conn.cursor()\n",
    "cur.execute(\"SELECT * FROM attend\")\n",
    "rows = cur.fetchall()\n",
    "for row in rows: \n",
    "    print(row)\n",
    "#conn.close()\n"
   ]
  },
  {
   "cell_type": "code",
   "execution_count": 67,
   "metadata": {},
   "outputs": [
    {
     "data": {
      "text/plain": [
       "[(2, '127.0.0.1', '2021-06-07 15:16:02.140654', 'ㄷㄹ', 'ㅁㄴㅇㄹ', 'ㅁㄴㅇㄹ'),\n",
       " (3, '127.0.0.1', '2021-06-07 15:17:59.308599', 'qwef', 'fef', 'qwe'),\n",
       " (4, '127.0.0.1', '2021-06-07 15:18:07.855610', 'qwef', 'fef', 'qweadsf')]"
      ]
     },
     "execution_count": 67,
     "metadata": {},
     "output_type": "execute_result"
    }
   ],
   "source": [
    "rows[len(rows)-3:]"
   ]
  },
  {
   "cell_type": "code",
   "execution_count": null,
   "metadata": {},
   "outputs": [],
   "source": [
    "cur.execute(\"DELETE FROM attend WHERE no = ?\", (15,))\n",
    "\n",
    "conn.commit()\n"
   ]
  },
  {
   "cell_type": "code",
   "execution_count": 58,
   "metadata": {},
   "outputs": [
    {
     "name": "stdout",
     "output_type": "stream",
     "text": [
      "Collecting jsonify\n",
      "  Downloading jsonify-0.5.tar.gz (1.0 kB)\n",
      "Building wheels for collected packages: jsonify\n",
      "  Building wheel for jsonify (setup.py) ... \u001b[?25ldone\n",
      "\u001b[?25h  Created wheel for jsonify: filename=jsonify-0.5-py3-none-any.whl size=1562 sha256=b474cdc3a3c42aa185f855eb24b0413ba3e9848226a70c71778d6a2c11ca713f\n",
      "  Stored in directory: /Users/hmc/Library/Caches/pip/wheels/ee/c6/ef/643adfbd90fefe0640cb6ba3b20995a2f50ccc2c57f55b190f\n",
      "Successfully built jsonify\n",
      "Installing collected packages: jsonify\n",
      "Successfully installed jsonify-0.5\n"
     ]
    }
   ],
   "source": [
    "! pip install jsonify"
   ]
  },
  {
   "cell_type": "code",
   "execution_count": 60,
   "metadata": {},
   "outputs": [],
   "source": [
    "aa = {\"name\":\"kkk\"}\n"
   ]
  },
  {
   "cell_type": "code",
   "execution_count": 61,
   "metadata": {},
   "outputs": [
    {
     "data": {
      "text/plain": [
       "{'name': 'kkk'}"
      ]
     },
     "execution_count": 61,
     "metadata": {},
     "output_type": "execute_result"
    }
   ],
   "source": [
    "aa"
   ]
  },
  {
   "cell_type": "code",
   "execution_count": 62,
   "metadata": {},
   "outputs": [
    {
     "data": {
      "text/plain": [
       "'kkk'"
      ]
     },
     "execution_count": 62,
     "metadata": {},
     "output_type": "execute_result"
    }
   ],
   "source": [
    "aa[\"name\"]"
   ]
  },
  {
   "cell_type": "code",
   "execution_count": 68,
   "metadata": {},
   "outputs": [],
   "source": [
    "def get_db(dbname, thelist=5):\n",
    "    conn = sqlite3.connect(dbname)\n",
    "    cur = conn.cursor()\n",
    "    cur.execute(\"SELECT * FROM atattendtend\")\n",
    "    rows = cur.fetchall()\n",
    "    if len(rows) < thelist:\n",
    "        return rows\n",
    "    else:\n",
    "        return rows[len(rows)-3:]"
   ]
  },
  {
   "cell_type": "code",
   "execution_count": 69,
   "metadata": {},
   "outputs": [],
   "source": [
    "dbdata = get_db(\"book.db\")"
   ]
  },
  {
   "cell_type": "code",
   "execution_count": 79,
   "metadata": {},
   "outputs": [
    {
     "data": {
      "text/plain": [
       "[(5, '127.0.0.1', '2021-06-07 15:24:50.425669', 'a', 'df', 'ef'),\n",
       " (4, '127.0.0.1', '2021-06-07 15:18:07.855610', 'qwef', 'fef', 'qweadsf'),\n",
       " (3, '127.0.0.1', '2021-06-07 15:17:59.308599', 'qwef', 'fef', 'qwe')]"
      ]
     },
     "execution_count": 79,
     "metadata": {},
     "output_type": "execute_result"
    }
   ],
   "source": [
    "dbdata[::-1]"
   ]
  },
  {
   "cell_type": "code",
   "execution_count": 74,
   "metadata": {},
   "outputs": [
    {
     "data": {
      "text/plain": [
       "'qwef'"
      ]
     },
     "execution_count": 74,
     "metadata": {},
     "output_type": "execute_result"
    }
   ],
   "source": [
    "dbdata[0][3]"
   ]
  },
  {
   "cell_type": "code",
   "execution_count": 72,
   "metadata": {},
   "outputs": [
    {
     "data": {
      "text/plain": [
       "{'a1': 1}"
      ]
     },
     "execution_count": 72,
     "metadata": {},
     "output_type": "execute_result"
    }
   ],
   "source": [
    "formedata = {}\n",
    "formedata[\"a%d\"%(1)]=1\n",
    "formedata"
   ]
  },
  {
   "cell_type": "code",
   "execution_count": null,
   "metadata": {},
   "outputs": [],
   "source": [
    "formedata = {}\n",
    "for i in range(5):\n",
    "    try:\n",
    "        formedata[\"name%d\"%(i)] = dbdata[i][3]\n",
    "        formedata[\"text%d\"%(i)] = dbdata[i][5]\n",
    "    except:\n",
    "        formedata[\"name%d\"%(i)] = \"\"\n",
    "        formedata[\"text%d\"%(i)] = \"\"\n",
    "        "
   ]
  },
  {
   "cell_type": "code",
   "execution_count": 81,
   "metadata": {},
   "outputs": [],
   "source": [
    "import pandas as pd\n"
   ]
  },
  {
   "cell_type": "code",
   "execution_count": 84,
   "metadata": {},
   "outputs": [],
   "source": [
    "dbname = \"book.db\"\n",
    "conn = sqlite3.connect(dbname)\n",
    "df = pd.read_sql_query(\"SELECT * FROM attend\", conn)\n",
    "df.to_html()"
   ]
  },
  {
   "cell_type": "code",
   "execution_count": 87,
   "metadata": {},
   "outputs": [
    {
     "ename": "NameError",
     "evalue": "name 'displat' is not defined",
     "output_type": "error",
     "traceback": [
      "\u001b[0;31m---------------------------------------------------------------------------\u001b[0m",
      "\u001b[0;31mNameError\u001b[0m                                 Traceback (most recent call last)",
      "\u001b[0;32m<ipython-input-87-dd5b5bb433b3>\u001b[0m in \u001b[0;36m<module>\u001b[0;34m\u001b[0m\n\u001b[0;32m----> 1\u001b[0;31m \u001b[0mdisplat\u001b[0m\u001b[0;34m(\u001b[0m\u001b[0mdf\u001b[0m\u001b[0;34m.\u001b[0m\u001b[0mto_html\u001b[0m\u001b[0;34m(\u001b[0m\u001b[0;34m)\u001b[0m\u001b[0;34m)\u001b[0m\u001b[0;34m\u001b[0m\u001b[0;34m\u001b[0m\u001b[0m\n\u001b[0m",
      "\u001b[0;31mNameError\u001b[0m: name 'displat' is not defined"
     ]
    }
   ],
   "source": []
  },
  {
   "cell_type": "code",
   "execution_count": null,
   "metadata": {},
   "outputs": [],
   "source": []
  }
 ],
 "metadata": {
  "kernelspec": {
   "display_name": "Python 3",
   "language": "python",
   "name": "python3"
  },
  "language_info": {
   "codemirror_mode": {
    "name": "ipython",
    "version": 3
   },
   "file_extension": ".py",
   "mimetype": "text/x-python",
   "name": "python",
   "nbconvert_exporter": "python",
   "pygments_lexer": "ipython3",
   "version": "3.8.5"
  }
 },
 "nbformat": 4,
 "nbformat_minor": 4
}
